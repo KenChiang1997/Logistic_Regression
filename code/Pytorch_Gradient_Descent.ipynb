{
 "cells": [
  {
   "cell_type": "code",
   "execution_count": 47,
   "metadata": {},
   "outputs": [],
   "source": [
    "import numpy as np \n",
    "import pandas as pd \n",
    "import matplotlib.pyplot as plt\n",
    "\n",
    "import torch \n",
    "from torch import nn\n",
    "from torch.autograd import grad "
   ]
  },
  {
   "cell_type": "code",
   "execution_count": 65,
   "metadata": {},
   "outputs": [
    {
     "name": "stdout",
     "output_type": "stream",
     "text": [
      "tensor([0.2855, 0.1762, 0.4117, 0.5548, 0.3529, 0.4819, 0.9864, 0.8522, 0.0129,\n",
      "        0.5677])\n"
     ]
    }
   ],
   "source": [
    "cpu = torch.device('cpu')\n",
    "x   = torch.rand(10)\n",
    "print(x)\n"
   ]
  },
  {
   "cell_type": "markdown",
   "metadata": {},
   "source": [
    "# One Dimensional x.grad()"
   ]
  },
  {
   "cell_type": "code",
   "execution_count": 66,
   "metadata": {},
   "outputs": [
    {
     "name": "stdout",
     "output_type": "stream",
     "text": [
      "x tensor([1.], requires_grad=True)\n",
      "analtical f'(x): tensor([-2.], grad_fn=<MulBackward0>)\n",
      "pytorch's 'f'(x): tensor([-2.])\n"
     ]
    }
   ],
   "source": [
    "def f(x):\n",
    "    return (x-2)**2\n",
    "\n",
    "def fp(x):\n",
    "    return 2*(x-2)\n",
    "\n",
    "x = torch.tensor([1.0],requires_grad=True)\n",
    "y = f(x)\n",
    "y.backward()\n",
    "\n",
    "print(\"x\",x)\n",
    "print('analtical f\\'(x):',fp(x) )    # 手動算  grad\n",
    "print(\"pytorch's 'f\\'(x):\",x.grad ) #  x.grad()"
   ]
  },
  {
   "cell_type": "markdown",
   "metadata": {},
   "source": [
    "# Let's consider a two dimensional differential \n",
    "    \n",
    "    - w = [w1,w2].T\n",
    "    \n",
    "    - g(w) = 2w1w2 + w2*cos(w1)  "
   ]
  },
  {
   "cell_type": "code",
   "execution_count": 67,
   "metadata": {},
   "outputs": [
    {
     "name": "stdout",
     "output_type": "stream",
     "text": [
      "pytorch'f'(x) : tensor([2.0000, 5.2832])\n"
     ]
    }
   ],
   "source": [
    "def g(w):\n",
    "    return 2* w[0]* w[1] +w[1]*torch.cos(w[0])\n",
    "\n",
    "\n",
    "w = torch.tensor([np.pi,1],requires_grad=True)\n",
    "z = g(w)\n",
    "z.backward()\n",
    "\n",
    "print(\"pytorch'f\\'(x) :\" , w.grad)"
   ]
  },
  {
   "cell_type": "code",
   "execution_count": 68,
   "metadata": {},
   "outputs": [
    {
     "name": "stdout",
     "output_type": "stream",
     "text": [
      "iter,\tx,\tf(x),\tf'(x),\tf'(x) pytorch\n",
      "0,\t5.000,\t9.000,\t6.000,\t6.000\n",
      "1,\t3.500,\t2.250,\t3.000,\t3.000\n",
      "2,\t2.750,\t0.562,\t1.500,\t1.500\n",
      "3,\t2.375,\t0.141,\t0.750,\t0.750\n",
      "4,\t2.188,\t0.035,\t0.375,\t0.375\n",
      "5,\t2.094,\t0.009,\t0.188,\t0.188\n",
      "6,\t2.047,\t0.002,\t0.094,\t0.094\n",
      "7,\t2.023,\t0.001,\t0.047,\t0.047\n",
      "8,\t2.012,\t0.000,\t0.023,\t0.023\n",
      "9,\t2.006,\t0.000,\t0.012,\t0.012\n",
      "10,\t2.003,\t0.000,\t0.006,\t0.006\n",
      "11,\t2.001,\t0.000,\t0.003,\t0.003\n",
      "12,\t2.001,\t0.000,\t0.001,\t0.001\n",
      "13,\t2.000,\t0.000,\t0.001,\t0.001\n",
      "14,\t2.000,\t0.000,\t0.000,\t0.000\n"
     ]
    },
    {
     "data": {
      "image/png": "[encoded data removed]",
      "text/plain": [
       "<Figure size 576x432 with 1 Axes>"
      ]
     },
     "metadata": {
      "needs_background": "light"
     },
     "output_type": "display_data"
    }
   ],
   "source": [
    "x = torch.tensor([5.0],requires_grad=True)\n",
    "\n",
    "def f(x):\n",
    "    return (x-2)**2\n",
    "\n",
    "def fp(x):\n",
    "    return 2*(x-2)\n",
    "    \n",
    "fig,ax = plt.subplots(figsize=(8,6))\n",
    "plt.title(\"gradient descent\")\n",
    "step_size = 0.25 # learning rate\n",
    "\n",
    "function_value = []\n",
    "gradient       = []\n",
    "x_value        = []\n",
    "\n",
    "print('iter,\\tx,\\tf(x),\\tf\\'(x),\\tf\\'(x) pytorch')\n",
    "\n",
    "\n",
    "for i in range(15):\n",
    "    y = f(x)\n",
    "    y.backward()  # compute the gradient \n",
    "\n",
    "    print('{},\\t{:.3f},\\t{:.3f},\\t{:.3f},\\t{:.3f}'.format(i,x.item(),f(x).item() ,fp(x).item(),x.grad.item()  ))\n",
    "    x.data  = x.data - step_size * x.grad \n",
    "\n",
    "\n",
    "    function_value.append( f(x).item() )\n",
    "    x_value.append( x.item() )\n",
    "    gradient.append(x.grad.item())\n",
    "\n",
    "    x.grad.detach_()   # --> detach_() is for efficiency\n",
    "    x.grad.zero_()     # --> zero the grad variable since the backward()\n",
    "\n",
    "ax.plot(x_value,function_value,label='cost function value')\n",
    "ax.scatter(x_value,function_value,color='red')\n",
    "ax.grid()\n",
    "plt.legend()\n",
    "plt.show()"
   ]
  },
  {
   "cell_type": "markdown",
   "metadata": {},
   "source": [
    "# Now Consider a simple Linear Regression"
   ]
  },
  {
   "cell_type": "code",
   "execution_count": 101,
   "metadata": {},
   "outputs": [
    {
     "name": "stdout",
     "output_type": "stream",
     "text": [
      "data shape        :  torch.Size([50, 2])\n",
      "prediction shape  :  torch.Size([50, 1])\n",
      "beta shape        :  torch.Size([2, 1])\n"
     ]
    }
   ],
   "source": [
    "size = (50,2) \n",
    "x = torch.randn(size=size)\n",
    "W = torch.tensor( [[-1.568],[1.5614]] )\n",
    "y = x @ W  + torch.randn(size=(50,1)) * 0.1\n",
    "\n",
    "print(\"data shape        : \",x.shape)\n",
    "print(\"prediction shape  : \",y.shape)\n",
    "print(\"beta shape        : \",w.shape)\n"
   ]
  },
  {
   "cell_type": "code",
   "execution_count": 102,
   "metadata": {},
   "outputs": [
    {
     "name": "stdout",
     "output_type": "stream",
     "text": [
      "pytorch gradient :  [ 3.6916094 -3.9877212]\n",
      "statistical gradeint :  [ 3.6916091 -3.9877222]\n"
     ]
    }
   ],
   "source": [
    "def model(X,w):\n",
    "    return X @ w \n",
    "\n",
    "def rss(y,y_hat):\n",
    "    return torch.sum ( (y-y_hat)**2 ) / int( y.shape[0] )\n",
    "\n",
    "def grad_rss(X,y,w):  #--> compute the gradient descent statistically\n",
    "    return -2*X.t() @ (y- X @ w) / (y.shape[0])\n",
    "\n",
    "w     = torch.tensor( [[1.0],[0.0]] ,requires_grad=True)\n",
    "y_hat = model(x,w)\n",
    "loss  = rss(y,y_hat)\n",
    "loss.backward()\n",
    "\n",
    "\n",
    "print(\"pytorch gradient : \",w.grad.view(2).numpy() )\n",
    "print(\"statistical gradeint : \",grad_rss(x,y,w).detach().view(2).numpy())"
   ]
  },
  {
   "cell_type": "markdown",
   "metadata": {},
   "source": [
    "- Set initial weight and learning rate"
   ]
  },
  {
   "cell_type": "code",
   "execution_count": 103,
   "metadata": {},
   "outputs": [],
   "source": [
    "learning_rate = 0.25\n",
    "w = torch.tensor( [[1.0],[0.0]] ,requires_grad=True)"
   ]
  },
  {
   "cell_type": "code",
   "execution_count": 104,
   "metadata": {},
   "outputs": [
    {
     "name": "stdout",
     "output_type": "stream",
     "text": [
      "iter\tloss\tw\n",
      "0\t7.770\t[0.07709765 0.9969303 ]\n",
      "5\t0.071\t[-1.3527806  1.5497869]\n",
      "10\t0.012\t[-1.5233333  1.5356549]\n",
      "15\t0.011\t[-1.5448408  1.5330048]\n",
      "20\t0.011\t[-1.5475656  1.53266  ]\n",
      "25\t0.011\t[-1.5479109  1.5326164]\n",
      "pytorch estimated w : [-1.5479515  1.5326113]\n",
      "True W : [[-1.568 ]\n",
      " [ 1.5614]]\n"
     ]
    }
   ],
   "source": [
    "print('iter\\tloss\\tw')\n",
    "\n",
    "for i in range(30):\n",
    "\n",
    "    y_hat = model(x,w)\n",
    "    loss  = rss(y,y_hat)\n",
    "    loss.backward()\n",
    "\n",
    "    w.data  = w.data - learning_rate * w.grad # (after if we use optimizaer , we don't event need this)\n",
    "\n",
    "\n",
    "    w.grad.detach()   # --> detach_() is for efficiency\n",
    "    w.grad.zero_()    # --> zero the grad variable since the backward()\n",
    "\n",
    "    if i % 5 == 0 :\n",
    "        print('{}\\t{:.3f}\\t{}'.format( i ,loss.item() , w.view(2).detach().numpy() ))\n",
    "\n",
    "\n",
    "print(\"pytorch estimated w :\", w.view(2).detach().numpy() )\n",
    "print(\"True W :\",W.numpy())"
   ]
  },
  {
   "cell_type": "markdown",
   "metadata": {},
   "source": [
    "# Using pytorch.optim (Optimizer)"
   ]
  },
  {
   "cell_type": "code",
   "execution_count": 124,
   "metadata": {},
   "outputs": [
    {
     "name": "stdout",
     "output_type": "stream",
     "text": [
      "data shape        :  torch.Size([50, 2])\n",
      "prediction shape  :  torch.Size([50, 1])\n",
      "beta shape        :  torch.Size([2, 1])\n"
     ]
    }
   ],
   "source": [
    "size = (50,2) \n",
    "x = torch.randn(size=size)\n",
    "W = torch.tensor( [[-1.568],[1.5614]] )\n",
    "y = x @ W  + torch.randn(size=(50,1)) * 0.1\n",
    "\n",
    "print(\"data shape        : \",x.shape)\n",
    "print(\"prediction shape  : \",y.shape)\n",
    "print(\"beta shape        : \",w.shape)"
   ]
  },
  {
   "cell_type": "code",
   "execution_count": 125,
   "metadata": {},
   "outputs": [],
   "source": [
    "learning_rate = 0.25"
   ]
  },
  {
   "cell_type": "code",
   "execution_count": 126,
   "metadata": {},
   "outputs": [],
   "source": [
    "class LinearRegression(nn.Module):\n",
    "    \n",
    "    \"\"\"\n",
    "    input_dim --> regression features\n",
    "    \"\"\"\n",
    "    \n",
    "    def __init__(self,input_dim):\n",
    "        super(LinearRegression, self).__init__()\n",
    "        self.linear = torch.nn.Linear(input_dim,1)  \n",
    "    \n",
    "    def forward(self, x):\n",
    "        y_pred = self.linear(x)\n",
    "        return y_pred"
   ]
  },
  {
   "cell_type": "code",
   "execution_count": 127,
   "metadata": {},
   "outputs": [],
   "source": [
    "model     = LinearRegression(input_dim=2)\n",
    "optimizer = torch.optim.SGD(model.parameters(),lr=learning_rate)\n",
    "criterion = nn.MSELoss()"
   ]
  },
  {
   "cell_type": "code",
   "execution_count": 138,
   "metadata": {},
   "outputs": [
    {
     "name": "stdout",
     "output_type": "stream",
     "text": [
      "iter\tloss\tw\n",
      "0\t5.044\ttensor([[-0.9389,  0.7387]])\n",
      "5\t0.014\ttensor([[-1.5727,  1.4852]])\n",
      "10\t0.008\ttensor([[-1.5689,  1.5315]])\n",
      "15\t0.008\ttensor([[-1.5667,  1.5370]])\n",
      "20\t0.008\ttensor([[-1.5664,  1.5378]])\n",
      "25\t0.008\ttensor([[-1.5663,  1.5379]])\n",
      "30\t0.008\ttensor([[-1.5663,  1.5379]])\n",
      "35\t0.008\ttensor([[-1.5663,  1.5379]])\n",
      "40\t0.008\ttensor([[-1.5663,  1.5379]])\n",
      "45\t0.008\ttensor([[-1.5663,  1.5379]])\n",
      "pytorch estimated w : tensor([[-1.5663,  1.5379]])\n",
      "True W : [[-1.568 ]\n",
      " [ 1.5614]]\n"
     ]
    }
   ],
   "source": [
    "print('iter\\tloss\\tw')\n",
    "\n",
    "for i in range(50):\n",
    "\n",
    "    y_hat = model(x)\n",
    "    loss  = criterion(y,y_hat)\n",
    "\n",
    "\n",
    "    optimizer.zero_grad()\n",
    "    loss.backward()\n",
    "    optimizer.step()\n",
    "\n",
    "    if i % 5 == 0 :\n",
    "        print('{}\\t{:.3f}\\t{}'.format( i ,loss.item() , list(model.parameters())[0].detach() ))\n",
    "\n",
    "\n",
    "print(\"pytorch estimated w :\", list(model.parameters())[0].detach()  )\n",
    "print(\"True W :\",W.numpy())"
   ]
  }
 ],
 "metadata": {
  "interpreter": {
   "hash": "c0a47dea00d570f92464afe46ffe5c2d4af344b6609508936a381314dfab973c"
  },
  "kernelspec": {
   "display_name": "Python 3.8.8 64-bit ('base': conda)",
   "language": "python",
   "name": "python3"
  },
  "language_info": {
   "codemirror_mode": {
    "name": "ipython",
    "version": 3
   },
   "file_extension": ".py",
   "mimetype": "text/x-python",
   "name": "python",
   "nbconvert_exporter": "python",
   "pygments_lexer": "ipython3",
   "version": "3.8.8"
  },
  "orig_nbformat": 4
 },
 "nbformat": 4,
 "nbformat_minor": 2
}
