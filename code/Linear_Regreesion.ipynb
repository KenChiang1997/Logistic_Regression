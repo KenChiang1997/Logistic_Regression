{
 "cells": [
  {
   "cell_type": "markdown",
   "metadata": {},
   "source": [
    "# Import Basic Library"
   ]
  },
  {
   "cell_type": "code",
   "execution_count": 109,
   "metadata": {},
   "outputs": [],
   "source": [
    "import numpy as np \n",
    "import pandas as pd\n",
    "from   tqdm import tqdm \n",
    "\n",
    "import statsmodels.api as sm \n",
    "import matplotlib.pyplot as plt "
   ]
  },
  {
   "cell_type": "markdown",
   "metadata": {},
   "source": [
    "# Constructing the Proxy Dataset For Linear Regression"
   ]
  },
  {
   "cell_type": "code",
   "execution_count": 110,
   "metadata": {},
   "outputs": [
    {
     "name": "stdout",
     "output_type": "stream",
     "text": [
      "Estimated Parameters :  [6.49973506 1.97522436]\n"
     ]
    },
    {
     "data": {
      "image/png": "[encoded data removed]",
      "text/plain": [
       "<Figure size 864x576 with 1 Axes>"
      ]
     },
     "metadata": {
      "needs_background": "light"
     },
     "output_type": "display_data"
    }
   ],
   "source": [
    "# Artificially create dataset with constant variance around a line\n",
    "xs = np.arange(100) \n",
    "y1 = 5 + 2*xs + 4 * np.random.randn(100) \n",
    "\n",
    "# Get results of linear regression  --> Using Statsmodel.api check the OLS parameters Estimation . \n",
    "slr1      = sm.OLS(y1, sm.add_constant(xs)).fit()\n",
    "fit1      = slr1.params[0] + slr1.params[1] * xs\n",
    "sm_params = slr1.params\n",
    "print(\"Estimated Parameters : \" , sm_params)\n",
    "\n",
    "\n",
    "#  -----  Plot data and regression line  -------\n",
    "figf,ax = plt.subplots(figsize=(12,8))\n",
    "ax.set_title('Example Linear Regression')\n",
    "ax.scatter(xs, y1,color='red')\n",
    "ax.plot(xs, fit1)\n",
    "plt.legend(['Predicted', 'Observed'])\n",
    "plt.xlabel('X')\n",
    "plt.ylabel('Y')\n",
    "plt.grid()"
   ]
  },
  {
   "cell_type": "markdown",
   "metadata": {},
   "source": [
    "# Make it a Dataset and Assume we do not know how we built it "
   ]
  },
  {
   "cell_type": "code",
   "execution_count": 111,
   "metadata": {},
   "outputs": [
    {
     "data": {
      "text/html": [
       "<div>\n",
       "<style scoped>\n",
       "    .dataframe tbody tr th:only-of-type {\n",
       "        vertical-align: middle;\n",
       "    }\n",
       "\n",
       "    .dataframe tbody tr th {\n",
       "        vertical-align: top;\n",
       "    }\n",
       "\n",
       "    .dataframe thead th {\n",
       "        text-align: right;\n",
       "    }\n",
       "</style>\n",
       "<table border=\"1\" class=\"dataframe\">\n",
       "  <thead>\n",
       "    <tr style=\"text-align: right;\">\n",
       "      <th></th>\n",
       "      <th>x</th>\n",
       "      <th>y</th>\n",
       "    </tr>\n",
       "  </thead>\n",
       "  <tbody>\n",
       "    <tr>\n",
       "      <th>0</th>\n",
       "      <td>0</td>\n",
       "      <td>8.580349</td>\n",
       "    </tr>\n",
       "    <tr>\n",
       "      <th>1</th>\n",
       "      <td>1</td>\n",
       "      <td>12.260096</td>\n",
       "    </tr>\n",
       "    <tr>\n",
       "      <th>2</th>\n",
       "      <td>2</td>\n",
       "      <td>8.447813</td>\n",
       "    </tr>\n",
       "    <tr>\n",
       "      <th>3</th>\n",
       "      <td>3</td>\n",
       "      <td>3.613759</td>\n",
       "    </tr>\n",
       "    <tr>\n",
       "      <th>4</th>\n",
       "      <td>4</td>\n",
       "      <td>13.413980</td>\n",
       "    </tr>\n",
       "    <tr>\n",
       "      <th>...</th>\n",
       "      <td>...</td>\n",
       "      <td>...</td>\n",
       "    </tr>\n",
       "    <tr>\n",
       "      <th>95</th>\n",
       "      <td>95</td>\n",
       "      <td>194.414333</td>\n",
       "    </tr>\n",
       "    <tr>\n",
       "      <th>96</th>\n",
       "      <td>96</td>\n",
       "      <td>197.611375</td>\n",
       "    </tr>\n",
       "    <tr>\n",
       "      <th>97</th>\n",
       "      <td>97</td>\n",
       "      <td>196.127387</td>\n",
       "    </tr>\n",
       "    <tr>\n",
       "      <th>98</th>\n",
       "      <td>98</td>\n",
       "      <td>202.455227</td>\n",
       "    </tr>\n",
       "    <tr>\n",
       "      <th>99</th>\n",
       "      <td>99</td>\n",
       "      <td>203.059766</td>\n",
       "    </tr>\n",
       "  </tbody>\n",
       "</table>\n",
       "<p>100 rows × 2 columns</p>\n",
       "</div>"
      ],
      "text/plain": [
       "     x           y\n",
       "0    0    8.580349\n",
       "1    1   12.260096\n",
       "2    2    8.447813\n",
       "3    3    3.613759\n",
       "4    4   13.413980\n",
       "..  ..         ...\n",
       "95  95  194.414333\n",
       "96  96  197.611375\n",
       "97  97  196.127387\n",
       "98  98  202.455227\n",
       "99  99  203.059766\n",
       "\n",
       "[100 rows x 2 columns]"
      ]
     },
     "execution_count": 111,
     "metadata": {},
     "output_type": "execute_result"
    }
   ],
   "source": [
    "Example_Dataset = pd.DataFrame()\n",
    "Example_Dataset['x'] = xs \n",
    "Example_Dataset['y'] = y1 \n",
    "Example_Dataset"
   ]
  },
  {
   "cell_type": "markdown",
   "metadata": {},
   "source": [
    "# Check the Dataset shape and construct initial parameters"
   ]
  },
  {
   "cell_type": "code",
   "execution_count": 112,
   "metadata": {},
   "outputs": [
    {
     "name": "stdout",
     "output_type": "stream",
     "text": [
      "(100, 2)\n",
      "(100, 1)\n",
      "(100, 1)\n"
     ]
    }
   ],
   "source": [
    "x = Example_Dataset['x'].values.reshape(-1,1)\n",
    "y = Example_Dataset['y'].values.reshape(-1,1)\n",
    "# x = sm.add_constant(x)\n",
    "vector_x = sm.add_constant(x)\n",
    "\n",
    "\n",
    "print(vector_x.shape)\n",
    "print(x.shape)\n",
    "print(y.shape)"
   ]
  },
  {
   "cell_type": "markdown",
   "metadata": {},
   "source": [
    "# Conduct Linear Regression Gradient Descent"
   ]
  },
  {
   "cell_type": "code",
   "execution_count": 113,
   "metadata": {},
   "outputs": [
    {
     "name": "stderr",
     "output_type": "stream",
     "text": [
      "100%|██████████| 50/50 [00:13<00:00,  3.69it/s]"
     ]
    },
    {
     "name": "stdout",
     "output_type": "stream",
     "text": [
      "------ Linear Form ------\n",
      "[6.48008038]\n",
      "[1.97552069]\n",
      "------ Matrix Form ------\n",
      "[[6.48008038]\n",
      " [1.97552069]]\n"
     ]
    },
    {
     "name": "stderr",
     "output_type": "stream",
     "text": [
      "\n"
     ]
    }
   ],
   "source": [
    "# Building the model\n",
    "m = 0\n",
    "c = 0\n",
    "weights = np.array([c,m]).reshape(2,1)\n",
    "\n",
    "c = weights[0]\n",
    "m = weights[1]\n",
    "\n",
    "L             = 0.0001         # The learning Rate\n",
    "n             = float(len(x))  # Number of elements in X\n",
    "Epochs        = 50\n",
    "torelence     = 1e-6\n",
    "\n",
    "def mean_square_error(y_pred,y) :\n",
    "\n",
    "    mse_score = np.linalg.norm(y_pred-y,2) / y_pred.shape[0]\n",
    "    mse_score = np.sqrt(mse_score)\n",
    "    \n",
    "    return mse_score\n",
    "\n",
    "mse_list =[]\n",
    "\n",
    "\n",
    "# Performing Gradient Descent \n",
    "\n",
    "for _ in tqdm(range(Epochs)) :\n",
    "\n",
    "    while True : \n",
    "        # --------- Linear Form --------- \n",
    "        y_pred = c +  x * m  \n",
    "\n",
    "        D_m = (-2/n) * sum(x * (y - y_pred))  # Derivative wrt m\n",
    "        D_c = (-2/n) * sum(y - y_pred)  # Derivative wrt c\n",
    "\n",
    "        # # weights = weights - L * D\n",
    "        m = m - L * D_m  # Update m\n",
    "        c = c - L * D_c  # Update c\n",
    "        \n",
    "        # ---------  Matrix Form   --------- \n",
    "        vector_y_pred   = vector_x @ weights\n",
    "        prediction_loss = vector_y_pred  - y\n",
    "\n",
    "        Loss_Gradient   = (2/n) * vector_x.T @  prediction_loss \n",
    "        old_weights     = weights\n",
    "        weights         = weights - L * Loss_Gradient\n",
    "\n",
    "        # Weights Difference --> to converge\n",
    "        weights_difference    = np.linalg.norm(weights - old_weights,2) \n",
    "        \n",
    "        if weights_difference < torelence : \n",
    "            break\n",
    "\n",
    "    # mse_list .append(mean_square_error(y_pred,y))\n",
    "\n",
    "print(\"------ Linear Form ------\")\n",
    "print(c)\n",
    "print(m)\n",
    "print(\"------ Matrix Form ------\")\n",
    "print(weights)"
   ]
  },
  {
   "cell_type": "markdown",
   "metadata": {},
   "source": [
    "# Recall Statsmodels.api Parameters Estimation "
   ]
  },
  {
   "cell_type": "code",
   "execution_count": 115,
   "metadata": {},
   "outputs": [
    {
     "name": "stdout",
     "output_type": "stream",
     "text": [
      "Estimated Parameters :  [6.49973506 1.97522436]\n"
     ]
    }
   ],
   "source": [
    "slr1      = sm.OLS(y, sm.add_constant(x)).fit()\n",
    "sm_params = slr1.params\n",
    "print(\"Estimated Parameters : \" , sm_params)"
   ]
  },
  {
   "cell_type": "markdown",
   "metadata": {},
   "source": [
    "# Linear Regression Gradient Descent --> Class Redo"
   ]
  },
  {
   "cell_type": "code",
   "execution_count": 130,
   "metadata": {},
   "outputs": [],
   "source": [
    "class linear_regression():\n",
    "    \n",
    "    \"\"\"\n",
    "    x is matrix with size --> mxn (contant constant term) \n",
    "    y is vector with size --> mx1 \n",
    "    \"\"\"\n",
    "    \n",
    "    def __init__(self,x,y,learning_rate,epochs,torelence):\n",
    "\n",
    "        self.x = x \n",
    "        self.y = y\n",
    "        self.learning_rate = learning_rate \n",
    "        self.epochs        = epochs \n",
    "        self.torelence     = torelence\n",
    "        self.weights       = np.zeros((self.x.shape[1],1))\n",
    "    \n",
    "    def mean_square_error(self,y_pred,y):\n",
    "        \n",
    "        mse_score = np.linalg.norm(y_pred-y,2) / y_pred.shape[0]\n",
    "        mse_score = np.sqrt(mse_score)\n",
    "        \n",
    "        return mse_score\n",
    "    \n",
    "    def loss_function(sef,y_pred,y):\n",
    "\n",
    "        loss = np.linalg.norm(y_pred - y,2) * ( 1/ (2*(y.shape[0])) )\n",
    "\n",
    "        return loss \n",
    "    \n",
    "    def gradient_descent(self):\n",
    "        \n",
    "        # ---- record gradient descent -----\n",
    "        self.mse_list            = []\n",
    "        self.loss_list           = []\n",
    "        self.update_weights_list = []\n",
    "        #  ----- ----- ----- ----- ----- -----\n",
    "\n",
    "        for _ in tqdm(range(self.epochs)) :\n",
    "\n",
    "            while True : \n",
    "\n",
    "                # ---------  Matrix Form   --------- \n",
    "                y_pred          = self.x @ self.weights\n",
    "                prediction_loss = y_pred  - y\n",
    "\n",
    "                Loss_Gradient   = (2/self.x.shape[0]) * self.x.T @  prediction_loss \n",
    "                old_weights     = self.weights\n",
    "                self.weights    = self.weights - L * Loss_Gradient\n",
    "                \n",
    "\n",
    "                # ---------  record gradient descent ---------  \n",
    "                self.mse_list.append(self.mean_square_error(y_pred,y))\n",
    "                self.loss_list.append(self.loss_function(y_pred,y))\n",
    "                self.update_weights_list.append(self.weights)\n",
    "                \n",
    "                # Weights Difference --> to converge\n",
    "                weights_difference    = np.linalg.norm(self.weights - old_weights,2) \n",
    "                \n",
    "                if weights_difference < self.torelence : \n",
    "                    break\n",
    "        \n",
    "        return self.weights \n",
    "    \n",
    "    def update_record(self):\n",
    "\n",
    "        return  self.mse_list ,  self.loss_list ,self.update_weights_list \n",
    "    \n",
    "\n",
    "    def predict(self,x):\n",
    "\n",
    "        pred = x @ self.weights \n",
    "\n",
    "        return pred \n"
   ]
  },
  {
   "cell_type": "code",
   "execution_count": 142,
   "metadata": {},
   "outputs": [
    {
     "name": "stderr",
     "output_type": "stream",
     "text": [
      "100%|██████████| 50/50 [00:08<00:00,  5.96it/s]\n"
     ]
    },
    {
     "data": {
      "text/plain": [
       "array([[6.48008038],\n",
       "       [1.97552069]])"
      ]
     },
     "execution_count": 142,
     "metadata": {},
     "output_type": "execute_result"
    }
   ],
   "source": [
    "model   = linear_regression(x=sm.add_constant(x),y=y,learning_rate=0.0001,epochs=50,torelence=1e-6)\n",
    "weights = model.gradient_descent()\n",
    "pred    = model.predict(x=sm.add_constant(x))\n",
    "weights"
   ]
  },
  {
   "cell_type": "code",
   "execution_count": 213,
   "metadata": {},
   "outputs": [
    {
     "data": {
      "image/png": "[encoded data removed]",
      "text/plain": [
       "<Figure size 576x576 with 1 Axes>"
      ]
     },
     "metadata": {
      "needs_background": "light"
     },
     "output_type": "display_data"
    }
   ],
   "source": [
    "\n",
    "mse_list ,  loss_list ,update_weights_list  = model.update_record()\n",
    "weight1 = np.array(update_weights_list)[:,1:2,:,].reshape(-1,1)\n",
    "\n",
    "dataframe = pd.DataFrame(weight1,columns=['Theta'])\n",
    "dataframe['loss'] = loss_list\n",
    "dataframe['mse']  = mse_list\n",
    "dataframe = dataframe.sort_values( by =\"loss\" , ascending=False )\n",
    "dataframe\n",
    "\n",
    "\n",
    "fig,ax = plt.subplots(figsize=(8,8))\n",
    "ax.set_title(\"Weight v.s. Loss\")\n",
    "ax.scatter(dataframe['Theta'][6:],dataframe['mse'][6:],color=\"blue\",alpha=0.06)\n",
    "\n",
    "ax.set_xlabel('Theta')\n",
    "ax.set_ylabel('Loss')\n",
    "ax.grid()"
   ]
  },
  {
   "cell_type": "code",
   "execution_count": 220,
   "metadata": {},
   "outputs": [
    {
     "data": {
      "image/png": "[encoded data removed]",
      "text/plain": [
       "<Figure size 864x576 with 1 Axes>"
      ]
     },
     "metadata": {
      "needs_background": "light"
     },
     "output_type": "display_data"
    }
   ],
   "source": [
    "\n",
    "figf,ax = plt.subplots(figsize=(12,8))\n",
    "\n",
    "ax.set_title('Example Linear Regression')\n",
    "ax.scatter(Example_Dataset['x'], Example_Dataset['y'],color='blue',alpha=0.5)\n",
    "ax.plot(Example_Dataset['x'], sm.add_constant(Example_Dataset['x'].values) @ weights ,color='red')\n",
    "\n",
    "plt.legend(['Predicted', 'Observed'])\n",
    "plt.xlabel('X')\n",
    "plt.ylabel('Y')\n",
    "plt.grid()"
   ]
  }
 ],
 "metadata": {
  "interpreter": {
   "hash": "c0a47dea00d570f92464afe46ffe5c2d4af344b6609508936a381314dfab973c"
  },
  "kernelspec": {
   "display_name": "Python 3.8.8 64-bit ('base': conda)",
   "name": "python3"
  },
  "language_info": {
   "codemirror_mode": {
    "name": "ipython",
    "version": 3
   },
   "file_extension": ".py",
   "mimetype": "text/x-python",
   "name": "python",
   "nbconvert_exporter": "python",
   "pygments_lexer": "ipython3",
   "version": "3.8.8"
  },
  "orig_nbformat": 4
 },
 "nbformat": 4,
 "nbformat_minor": 2
}
