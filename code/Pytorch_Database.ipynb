{
 "cells": [
  {
   "cell_type": "markdown",
   "metadata": {},
   "source": [
    "# Pytorch : Dataset , Dataloader , nn.Linear "
   ]
  },
  {
   "cell_type": "code",
   "execution_count": 1,
   "metadata": {},
   "outputs": [],
   "source": [
    "import numpy as np \n",
    "import pandas as pd \n",
    "import matplotlib.pyplot as plt \n",
    "plt.style.use('ggplot')\n",
    "\n",
    "import torch\n",
    "from   torch import nn\n",
    "from torch.utils.data import Dataset,DataLoader"
   ]
  },
  {
   "cell_type": "markdown",
   "metadata": {},
   "source": [
    "# DataLoader"
   ]
  },
  {
   "cell_type": "code",
   "execution_count": 2,
   "metadata": {},
   "outputs": [],
   "source": [
    "class Dataset(Dataset):\n",
    "\n",
    "    def __init__(self):\n",
    "        \n",
    "        # Self Input Dataset \n",
    "        m        = 1000\n",
    "        n        = 1\n",
    "        sigma    = 2\n",
    "        density  = 0.2\n",
    "\n",
    "        np.random.seed(1)\n",
    "        beta_star = np.random.randn(n)\n",
    "        idxs      = np.random.choice(range(n), int((1-density)*n), replace=False)\n",
    "\n",
    "        for idx in idxs:\n",
    "            beta_star[idx] = 0\n",
    "        \n",
    "        print(beta_star)\n",
    "        \"\"\"\n",
    "        \"\"\"\n",
    "        \n",
    "        X = np.random.randn(m,n).astype(np.float32)\n",
    "        Y = X.dot(beta_star) + np.random.normal(0, sigma, size=m).astype(np.float32)\n",
    "        # ---------- Generate Proxy Dataset , Convert ot Pytorch ---------- \n",
    "        self.data   =  torch.tensor(X)\n",
    "        self.label  =  torch.tensor(Y)\n",
    "\n",
    "    def __getitem__(self,index):\n",
    "        return self.data[index].float(),self.label[index].float().reshape(-1)\n",
    "\n",
    "    def __len__(self):\n",
    "        return len(self.data)\n",
    "    \n",
    "    def get_input_dimmension(self):\n",
    "        return self.data.size()[1]"
   ]
  },
  {
   "cell_type": "code",
   "execution_count": 3,
   "metadata": {},
   "outputs": [
    {
     "name": "stdout",
     "output_type": "stream",
     "text": [
      "[1.62434536]\n",
      "[1.62434536]\n"
     ]
    }
   ],
   "source": [
    "batch_size      = 50\n",
    "train_dataset   = Dataset()\n",
    "test_dataset    = Dataset()\n",
    "\n",
    "train_dataloader = DataLoader(dataset=train_dataset , batch_size=batch_size)\n",
    "test_dataloader  = DataLoader(dataset=test_dataset  , batch_size=batch_size)"
   ]
  },
  {
   "cell_type": "code",
   "execution_count": 4,
   "metadata": {},
   "outputs": [
    {
     "name": "stdout",
     "output_type": "stream",
     "text": [
      "iteration (1), X_train Size : torch.Size([50, 1]) , Y_train Size : torch.Size([50, 1])\n",
      "iteration (2), X_train Size : torch.Size([50, 1]) , Y_train Size : torch.Size([50, 1])\n",
      "iteration (3), X_train Size : torch.Size([50, 1]) , Y_train Size : torch.Size([50, 1])\n",
      "iteration (4), X_train Size : torch.Size([50, 1]) , Y_train Size : torch.Size([50, 1])\n",
      "iteration (5), X_train Size : torch.Size([50, 1]) , Y_train Size : torch.Size([50, 1])\n",
      "iteration (6), X_train Size : torch.Size([50, 1]) , Y_train Size : torch.Size([50, 1])\n",
      "iteration (7), X_train Size : torch.Size([50, 1]) , Y_train Size : torch.Size([50, 1])\n",
      "iteration (8), X_train Size : torch.Size([50, 1]) , Y_train Size : torch.Size([50, 1])\n",
      "iteration (9), X_train Size : torch.Size([50, 1]) , Y_train Size : torch.Size([50, 1])\n",
      "iteration (10), X_train Size : torch.Size([50, 1]) , Y_train Size : torch.Size([50, 1])\n",
      "iteration (11), X_train Size : torch.Size([50, 1]) , Y_train Size : torch.Size([50, 1])\n",
      "iteration (12), X_train Size : torch.Size([50, 1]) , Y_train Size : torch.Size([50, 1])\n",
      "iteration (13), X_train Size : torch.Size([50, 1]) , Y_train Size : torch.Size([50, 1])\n",
      "iteration (14), X_train Size : torch.Size([50, 1]) , Y_train Size : torch.Size([50, 1])\n",
      "iteration (15), X_train Size : torch.Size([50, 1]) , Y_train Size : torch.Size([50, 1])\n",
      "iteration (16), X_train Size : torch.Size([50, 1]) , Y_train Size : torch.Size([50, 1])\n",
      "iteration (17), X_train Size : torch.Size([50, 1]) , Y_train Size : torch.Size([50, 1])\n",
      "iteration (18), X_train Size : torch.Size([50, 1]) , Y_train Size : torch.Size([50, 1])\n",
      "iteration (19), X_train Size : torch.Size([50, 1]) , Y_train Size : torch.Size([50, 1])\n",
      "iteration (20), X_train Size : torch.Size([50, 1]) , Y_train Size : torch.Size([50, 1])\n"
     ]
    }
   ],
   "source": [
    "for i,(data,label) in enumerate(train_dataloader):\n",
    "    print(f\"iteration ({i+1})\" + \", X_train Size :\",data.size() , \", Y_train Size :\",label.size())"
   ]
  },
  {
   "cell_type": "markdown",
   "metadata": {},
   "source": [
    "# Training Parameters"
   ]
  },
  {
   "cell_type": "code",
   "execution_count": 5,
   "metadata": {},
   "outputs": [],
   "source": [
    "class parameters():\n",
    "\n",
    "    def __init__(self) :\n",
    "\n",
    "        self.learning_rate = 0.1 \n",
    "        self.epochs        = 1000\n",
    "        self.criterion     = nn.MSELoss()\n",
    "\n",
    "parameter = parameters()"
   ]
  },
  {
   "cell_type": "markdown",
   "metadata": {},
   "source": [
    "# BUild Model"
   ]
  },
  {
   "cell_type": "code",
   "execution_count": 6,
   "metadata": {},
   "outputs": [],
   "source": [
    "class LinearRegression(nn.Module):\n",
    "    \n",
    "    \"\"\"\n",
    "    input_dim --> regression features\n",
    "    \"\"\"\n",
    "    \n",
    "    def __init__(self,input_dim):\n",
    "        super(LinearRegression, self).__init__()\n",
    "        self.linear = torch.nn.Linear(input_dim,1)  \n",
    "    \n",
    "    def forward(self, x):\n",
    "        y_pred = self.linear(x)\n",
    "        return y_pred"
   ]
  },
  {
   "cell_type": "markdown",
   "metadata": {},
   "source": [
    "# Train Model"
   ]
  },
  {
   "cell_type": "code",
   "execution_count": 7,
   "metadata": {},
   "outputs": [
    {
     "name": "stdout",
     "output_type": "stream",
     "text": [
      "epoch 50, loss 4.13481330871582\n",
      "epoch 100, loss 4.125975131988525\n",
      "epoch 150, loss 4.125975131988525\n",
      "epoch 200, loss 4.125975131988525\n",
      "epoch 250, loss 4.125975131988525\n",
      "epoch 300, loss 4.125975131988525\n",
      "epoch 350, loss 4.125975131988525\n",
      "epoch 400, loss 4.125975131988525\n",
      "epoch 450, loss 4.125975131988525\n",
      "epoch 500, loss 4.125975131988525\n",
      "epoch 550, loss 4.125975131988525\n",
      "epoch 600, loss 4.125975131988525\n",
      "epoch 650, loss 4.125975131988525\n",
      "epoch 700, loss 4.125975131988525\n",
      "epoch 750, loss 4.125975131988525\n",
      "epoch 800, loss 4.125975131988525\n",
      "epoch 850, loss 4.125975131988525\n",
      "epoch 900, loss 4.125975131988525\n",
      "epoch 950, loss 4.125975131988525\n",
      "epoch 1000, loss 4.125975131988525\n"
     ]
    }
   ],
   "source": [
    "model     = LinearRegression(input_dim=train_dataset.get_input_dimmension())\n",
    "optimizer = torch.optim.SGD(model.parameters(),lr=parameter.learning_rate)\n",
    "\n",
    "for epoch in range(parameter.epochs):\n",
    "\n",
    "    for i,(data,label) in enumerate(train_dataloader):\n",
    "      \n",
    "        y_pred = model(data)\n",
    "        loss   = parameter.criterion(y_pred,label)\n",
    "        \n",
    "        optimizer.zero_grad()\n",
    "        loss.backward()\n",
    "        optimizer.step()\n",
    "\n",
    "    if epoch % 50 == 0:\n",
    "        print('epoch {}, loss {}'.format(epoch+batch_size, loss.item()))\n"
   ]
  },
  {
   "cell_type": "markdown",
   "metadata": {},
   "source": [
    "# Parameters Weight [Alpha,Betas]"
   ]
  },
  {
   "cell_type": "code",
   "execution_count": 8,
   "metadata": {},
   "outputs": [
    {
     "data": {
      "text/plain": [
       "[Parameter containing:\n",
       " tensor([[1.6951]], requires_grad=True),\n",
       " Parameter containing:\n",
       " tensor([-0.0264], requires_grad=True)]"
      ]
     },
     "execution_count": 8,
     "metadata": {},
     "output_type": "execute_result"
    }
   ],
   "source": [
    "list(model.parameters())"
   ]
  },
  {
   "cell_type": "markdown",
   "metadata": {},
   "source": [
    "# Save Model"
   ]
  },
  {
   "cell_type": "code",
   "execution_count": 9,
   "metadata": {},
   "outputs": [
    {
     "name": "stdout",
     "output_type": "stream",
     "text": [
      "Saved PyTorch Model State to model.pth\n"
     ]
    }
   ],
   "source": [
    "torch.save(model.state_dict(), \"LinearRegression.pth\")\n",
    "print(\"Saved PyTorch Model State to model.pth\")"
   ]
  },
  {
   "cell_type": "markdown",
   "metadata": {},
   "source": [
    "# Load Model"
   ]
  },
  {
   "cell_type": "code",
   "execution_count": 10,
   "metadata": {},
   "outputs": [
    {
     "data": {
      "text/plain": [
       "<All keys matched successfully>"
      ]
     },
     "execution_count": 10,
     "metadata": {},
     "output_type": "execute_result"
    }
   ],
   "source": [
    "model     = LinearRegression(input_dim=train_dataset.get_input_dimmension())\n",
    "model.load_state_dict(torch.load(\"LinearRegression.pth\"))"
   ]
  },
  {
   "cell_type": "markdown",
   "metadata": {},
   "source": [
    "#  Test Model Accuracy"
   ]
  },
  {
   "cell_type": "code",
   "execution_count": 11,
   "metadata": {},
   "outputs": [
    {
     "name": "stdout",
     "output_type": "stream",
     "text": [
      "------------------------------\n",
      "loss 50 : 5.093385219573975\n",
      "loss 100 : 3.787928581237793\n",
      "loss 150 : 3.780057907104492\n",
      "loss 200 : 3.4567182064056396\n",
      "loss 250 : 3.9926955699920654\n",
      "loss 300 : 3.3249573707580566\n",
      "loss 350 : 3.467958450317383\n",
      "loss 400 : 4.591018199920654\n",
      "loss 450 : 4.605863571166992\n",
      "loss 500 : 6.141733169555664\n",
      "loss 550 : 4.086453437805176\n",
      "loss 600 : 4.460901737213135\n",
      "loss 650 : 4.830617427825928\n",
      "loss 700 : 5.82889461517334\n",
      "loss 750 : 4.972119331359863\n",
      "loss 800 : 4.000478267669678\n",
      "loss 850 : 3.263093948364258\n",
      "loss 900 : 3.4828906059265137\n",
      "loss 950 : 3.8029162883758545\n",
      "loss 1000 : 4.018982410430908\n",
      "------------------------------\n",
      "Average_Loss :  4.249483215808868\n"
     ]
    }
   ],
   "source": [
    "print(\"-\"*30)\n",
    "loss_list = [ ]\n",
    "for i,(data,label) in enumerate(test_dataloader):\n",
    "    # print(f\"iteration ({i+1})\" + \", X_train Size :\",data.size() , \", Y_train Size :\",label.size())\n",
    "\n",
    "    y_pred = model(data)\n",
    "    loss   = parameter.criterion(y_pred,label)\n",
    "    print(f\"loss {i*batch_size+batch_size} :\",loss.item())\n",
    "\n",
    "    loss_list.append(loss.item())\n",
    "\n",
    "print(\"-\"*30)\n",
    "print(\"Average_Loss : \", np.mean(loss_list))"
   ]
  },
  {
   "cell_type": "code",
   "execution_count": 12,
   "metadata": {},
   "outputs": [
    {
     "data": {
      "text/plain": [
       "<matplotlib.legend.Legend at 0x7fbec0c0d490>"
      ]
     },
     "execution_count": 12,
     "metadata": {},
     "output_type": "execute_result"
    },
    {
     "data": {
      "image/png": "[encoded data removed]",
      "text/plain": [
       "<Figure size 720x576 with 1 Axes>"
      ]
     },
     "metadata": {},
     "output_type": "display_data"
    }
   ],
   "source": [
    "x,y = test_dataset[:,]\n",
    "\n",
    "fig , ax = plt.subplots(figsize=(10,8))\n",
    "ax.set_title('Testing Generat Data')\n",
    "ax.scatter(x,y,color='blue')\n",
    "ax.plot(x,model(x).detach().numpy(),color='red',linestyle='--',label=f'weight :{list(model.parameters())}')\n",
    "ax.legend()"
   ]
  }
 ],
 "metadata": {
  "interpreter": {
   "hash": "c0a47dea00d570f92464afe46ffe5c2d4af344b6609508936a381314dfab973c"
  },
  "kernelspec": {
   "display_name": "Python 3.8.8 64-bit ('base': conda)",
   "language": "python",
   "name": "python3"
  },
  "language_info": {
   "codemirror_mode": {
    "name": "ipython",
    "version": 3
   },
   "file_extension": ".py",
   "mimetype": "text/x-python",
   "name": "python",
   "nbconvert_exporter": "python",
   "pygments_lexer": "ipython3",
   "version": "3.8.8"
  },
  "orig_nbformat": 4
 },
 "nbformat": 4,
 "nbformat_minor": 2
}
