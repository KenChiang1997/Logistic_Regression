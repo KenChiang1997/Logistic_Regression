{
 "cells": [
  {
   "cell_type": "markdown",
   "metadata": {},
   "source": [
    "# Introduction to PYTORCH \n",
    "\n",
    " - torch , overall for training nn.model , build model , save model."
   ]
  },
  {
   "cell_type": "code",
   "execution_count": 14,
   "metadata": {},
   "outputs": [],
   "source": [
    "import torch\n",
    "import numpy as np"
   ]
  },
  {
   "cell_type": "markdown",
   "metadata": {},
   "source": [
    "# torch.Tensor Data type"
   ]
  },
  {
   "cell_type": "code",
   "execution_count": 18,
   "metadata": {},
   "outputs": [
    {
     "name": "stdout",
     "output_type": "stream",
     "text": [
      "--------------------------------------------------\n",
      "Orginal Data Shape :  (2, 2)\n",
      "Orignal Data       :  [[1 2]\n",
      " [3 4]]\n",
      "pytorch datatype :  <class 'numpy.ndarray'>\n",
      "--------------------------------------------------\n",
      "tensor size      :  torch.Size([2, 2])\n",
      "x_data           :  tensor([[1, 2],\n",
      "        [3, 4]])\n",
      "pytorch datatype :  <class 'torch.Tensor'>\n"
     ]
    }
   ],
   "source": [
    "data   = np.array([[1, 2],[3, 4]])\n",
    "x_data = torch.tensor(data)\n",
    "\n",
    "\n",
    "print(\"-\"*50)\n",
    "print(\"Orginal Data Shape : \",data.shape)\n",
    "print(\"Orignal Data       : \",data)\n",
    "print(\"pytorch datatype : \" , type(data))\n",
    "\n",
    "print(\"-\"*50)\n",
    "print(\"tensor size      : \" , x_data.shape )\n",
    "print(\"x_data           : \" , x_data )\n",
    "print(\"pytorch datatype : \" , type(x_data))\n"
   ]
  },
  {
   "cell_type": "markdown",
   "metadata": {},
   "source": [
    " - can also use torch.from_numpy(x_data)  to transform data from numpy type to tensor"
   ]
  },
  {
   "cell_type": "markdown",
   "metadata": {},
   "source": [
    "# Manipulate torch.Tensor Data"
   ]
  },
  {
   "cell_type": "code",
   "execution_count": 19,
   "metadata": {},
   "outputs": [
    {
     "name": "stdout",
     "output_type": "stream",
     "text": [
      "Zeros Tensor: \n",
      " tensor([[0, 0],\n",
      "        [0, 0]]) \n",
      "\n",
      "Ones Tensor: \n",
      " tensor([[1, 1],\n",
      "        [1, 1]]) \n",
      "\n",
      "Random Tensor: \n",
      " tensor([[0.6856, 0.2126],\n",
      "        [0.4126, 0.8637]]) \n",
      "\n"
     ]
    }
   ],
   "source": [
    "x_zeros = torch.zeros_like(x_data) # retains the properties of x_data\n",
    "print(f\"Zeros Tensor: \\n {x_zeros} \\n\")\n",
    "\n",
    "x_ones = torch.ones_like(x_data) # retains the properties of x_data\n",
    "print(f\"Ones Tensor: \\n {x_ones} \\n\")\n",
    "\n",
    "x_rand = torch.rand_like(x_data, dtype=torch.float) # overrides the datatype of x_data\n",
    "print(f\"Random Tensor: \\n {x_rand} \\n\")"
   ]
  },
  {
   "cell_type": "markdown",
   "metadata": {},
   "source": [
    "# Create Torch array,matrix data \n",
    "    - np.ones(()) , np.random.normal() , np.zeros(()) ,... etc"
   ]
  },
  {
   "cell_type": "code",
   "execution_count": 22,
   "metadata": {},
   "outputs": [
    {
     "name": "stdout",
     "output_type": "stream",
     "text": [
      "Noraml Tensor:\n",
      "tensor([[-0.0828,  0.7248, -0.7038],\n",
      "        [-0.7661,  0.4850,  0.9788],\n",
      "        [-2.2625,  0.6992, -0.5345]])\n",
      "\n",
      "Random Tensor: \n",
      " tensor([[0.6708, 0.4158, 0.2844],\n",
      "        [0.0370, 0.2010, 0.7121],\n",
      "        [0.1477, 0.6845, 0.2905]]) \n",
      "\n",
      "Ones Tensor: \n",
      " tensor([[1., 1., 1.],\n",
      "        [1., 1., 1.],\n",
      "        [1., 1., 1.]]) \n",
      "\n",
      "Zeros Tensor: \n",
      " tensor([[0., 0., 0.],\n",
      "        [0., 0., 0.],\n",
      "        [0., 0., 0.]])\n"
     ]
    }
   ],
   "source": [
    "shape = (3,3)\n",
    "\n",
    "normal_tensor = torch.normal(mean=0 , std=1 , size=shape)\n",
    "rand_tensor   = torch.rand(shape) # Unifrom 0 ~ 1 \n",
    "ones_tensor   = torch.ones(shape)\n",
    "zeros_tensor  = torch.zeros(shape)\n",
    "\n",
    "print(f\"Noraml Tensor:\\n{normal_tensor}\\n\")\n",
    "print(f\"Random Tensor: \\n {rand_tensor} \\n\")\n",
    "print(f\"Ones Tensor: \\n {ones_tensor} \\n\")\n",
    "print(f\"Zeros Tensor: \\n {zeros_tensor}\")"
   ]
  },
  {
   "cell_type": "markdown",
   "metadata": {},
   "source": [
    "# Select tensor specific row , columns\n",
    "    - Not Different with Numpy array"
   ]
  },
  {
   "cell_type": "code",
   "execution_count": 26,
   "metadata": {},
   "outputs": [
    {
     "name": "stdout",
     "output_type": "stream",
     "text": [
      "Orignal Data : \n",
      " tensor([[0.2116, 0.9745, 0.0575, 0.9105],\n",
      "        [0.4598, 0.3210, 0.6346, 0.6752],\n",
      "        [0.6235, 0.9090, 0.2560, 0.3001],\n",
      "        [0.8233, 0.3745, 0.5069, 0.9479]]) \n",
      "\n",
      "First row    :  tensor([0.2116, 0.9745, 0.0575, 0.9105])\n",
      "Last  row    :  tensor([0.8233, 0.3745, 0.5069, 0.9479])\n",
      "First Column :  tensor([0.2116, 0.4598, 0.6235, 0.8233])\n",
      "Last  Column :  tensor([0.9105, 0.6752, 0.3001, 0.9479])\n"
     ]
    }
   ],
   "source": [
    "tensor = torch.rand(4, 4)\n",
    "print(\"Orignal Data : \\n\",tensor,\"\\n\")\n",
    "\n",
    "print('First row    : '  ,tensor[0,:,]       )\n",
    "print(\"Last  row    : \"  , tensor[-1,:,]     )\n",
    "print('First Column : '  , tensor[:, 0]      )\n",
    "print('Last  Column : '  , tensor[:, -1]     )\n"
   ]
  },
  {
   "cell_type": "markdown",
   "metadata": {},
   "source": [
    "# Horizon Concat & Vertical Concat tensor"
   ]
  },
  {
   "cell_type": "code",
   "execution_count": 31,
   "metadata": {},
   "outputs": [
    {
     "name": "stdout",
     "output_type": "stream",
     "text": [
      "horizon concat  : \n",
      " tensor([[0.2116, 0.9745, 0.0575, 0.9105, 0.2116, 0.9745, 0.0575, 0.9105],\n",
      "        [0.4598, 0.3210, 0.6346, 0.6752, 0.4598, 0.3210, 0.6346, 0.6752],\n",
      "        [0.6235, 0.9090, 0.2560, 0.3001, 0.6235, 0.9090, 0.2560, 0.3001],\n",
      "        [0.8233, 0.3745, 0.5069, 0.9479, 0.8233, 0.3745, 0.5069, 0.9479]]) \n",
      "\n",
      "vertical concat : \n",
      " tensor([[0.2116, 0.9745, 0.0575, 0.9105],\n",
      "        [0.4598, 0.3210, 0.6346, 0.6752],\n",
      "        [0.6235, 0.9090, 0.2560, 0.3001],\n",
      "        [0.8233, 0.3745, 0.5069, 0.9479],\n",
      "        [0.2116, 0.9745, 0.0575, 0.9105],\n",
      "        [0.4598, 0.3210, 0.6346, 0.6752],\n",
      "        [0.6235, 0.9090, 0.2560, 0.3001],\n",
      "        [0.8233, 0.3745, 0.5069, 0.9479]])\n"
     ]
    }
   ],
   "source": [
    "hstack = torch.cat([tensor, tensor], dim=1)\n",
    "vstack = torch.cat([tensor, tensor], dim=0)\n",
    "\n",
    "print(\"horizon concat  : \\n\",hstack,'\\n')\n",
    "print(\"vertical concat : \\n\",vstack)"
   ]
  },
  {
   "cell_type": "markdown",
   "metadata": {},
   "source": [
    "# Tensor Computation"
   ]
  },
  {
   "cell_type": "code",
   "execution_count": 46,
   "metadata": {},
   "outputs": [
    {
     "name": "stdout",
     "output_type": "stream",
     "text": [
      "tensor matix  :\n",
      "tensor([[0.9887, 0.9977],\n",
      "        [0.5682, 0.6638]])\n",
      "\n",
      "---------------Inner Product-------------------------\n",
      "pytorch @ multiplier  : \n",
      "tensor([[1.9730, 1.2241],\n",
      "        [1.2241, 0.7635]])\n",
      "\n",
      "pytorch tensor.matmul : \n",
      "tensor([[1.9730, 1.2241],\n",
      "        [1.2241, 0.7635]])\n",
      "\n",
      "---------------Element by Element-------------------------\n",
      "pytorch * multiplier : \n",
      "tensor([[0.9775, 0.9955],\n",
      "        [0.3229, 0.4407]])\n",
      "\n",
      "pytorch mul : \n",
      "tensor([[0.9775, 0.9955],\n",
      "        [0.3229, 0.4407]])\n",
      "\n"
     ]
    }
   ],
   "source": [
    "tensor = torch.rand(2, 2)\n",
    "print(f\"tensor matix  :\\n{tensor}\\n\")\n",
    "\n",
    "\n",
    "# Inner Product can be like \n",
    "y1 = tensor @ tensor.T\n",
    "y2 = tensor.matmul(tensor.T)\n",
    "\n",
    "# Element by Element Mutliplication\n",
    "z1 = tensor * tensor\n",
    "z2 = tensor.mul(tensor)\n",
    "\n",
    "print(\"-\"*15+\"Inner Product\"+\"-\"*25)\n",
    "print(f\"pytorch @ multiplier  : \\n{y1}\\n\")\n",
    "print(f\"pytorch tensor.matmul : \\n{y2}\\n\")\n",
    "\n",
    "print(\"-\"*15+\"Element by Element\"+\"-\"*25)\n",
    "print(f\"pytorch * multiplier : \\n{z1}\\n\")\n",
    "print(f\"pytorch mul : \\n{z2}\\n\")"
   ]
  },
  {
   "cell_type": "markdown",
   "metadata": {},
   "source": [
    "# Tensor Aggregate"
   ]
  },
  {
   "cell_type": "code",
   "execution_count": 50,
   "metadata": {},
   "outputs": [
    {
     "name": "stdout",
     "output_type": "stream",
     "text": [
      "sum of \n",
      "tensor([[0.9887, 0.9977],\n",
      "        [0.5682, 0.6638]])\n",
      "\n",
      "3.218458652496338 <class 'float'>\n"
     ]
    }
   ],
   "source": [
    "agg_sum  = tensor.sum()\n",
    "agg_item = agg_sum.item() # call the values behind it \n",
    "\n",
    "print(f\"sum of \\n{tensor}\\n\")\n",
    "print(agg_item, type(agg_item))"
   ]
  },
  {
   "cell_type": "code",
   "execution_count": 51,
   "metadata": {},
   "outputs": [
    {
     "name": "stdout",
     "output_type": "stream",
     "text": [
      "tensor([[0.9887, 0.9977],\n",
      "        [0.5682, 0.6638]]) \n",
      "\n",
      "tensor([[5.9887, 5.9977],\n",
      "        [5.5682, 5.6638]])\n"
     ]
    }
   ],
   "source": [
    "print(tensor, \"\\n\")\n",
    "tensor.add_(5)\n",
    "\n",
    "print(tensor)"
   ]
  },
  {
   "cell_type": "code",
   "execution_count": 52,
   "metadata": {},
   "outputs": [
    {
     "data": {
      "text/plain": [
       "tensor([[10.9887, 10.9977],\n",
       "        [10.5682, 10.6638]])"
      ]
     },
     "execution_count": 52,
     "metadata": {},
     "output_type": "execute_result"
    }
   ],
   "source": [
    "tensor + 5 "
   ]
  },
  {
   "cell_type": "code",
   "execution_count": 53,
   "metadata": {},
   "outputs": [
    {
     "data": {
      "text/plain": [
       "tensor([[5.9887, 5.9977],\n",
       "        [5.5682, 5.6638]])"
      ]
     },
     "execution_count": 53,
     "metadata": {},
     "output_type": "execute_result"
    }
   ],
   "source": [
    "tensor"
   ]
  }
 ],
 "metadata": {
  "interpreter": {
   "hash": "c0a47dea00d570f92464afe46ffe5c2d4af344b6609508936a381314dfab973c"
  },
  "kernelspec": {
   "display_name": "Python 3.8.8 64-bit ('base': conda)",
   "language": "python",
   "name": "python3"
  },
  "language_info": {
   "codemirror_mode": {
    "name": "ipython",
    "version": 3
   },
   "file_extension": ".py",
   "mimetype": "text/x-python",
   "name": "python",
   "nbconvert_exporter": "python",
   "pygments_lexer": "ipython3",
   "version": "3.8.8"
  },
  "orig_nbformat": 4
 },
 "nbformat": 4,
 "nbformat_minor": 2
}
