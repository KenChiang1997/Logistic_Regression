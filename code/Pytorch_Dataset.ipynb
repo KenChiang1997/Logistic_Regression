{
 "cells": [
  {
   "cell_type": "code",
   "execution_count": 1,
   "metadata": {},
   "outputs": [],
   "source": [
    "import numpy as np \n",
    "import pandas as pd \n",
    "import matplotlib.pyplot as plt \n",
    "\n",
    "import torch\n",
    "from   torch import nn\n",
    "from torch.utils.data import Dataset,DataLoader"
   ]
  },
  {
   "cell_type": "code",
   "execution_count": 2,
   "metadata": {},
   "outputs": [],
   "source": [
    "class Dataset(Dataset):\n",
    "\n",
    "    def __init__(self):\n",
    "        \n",
    "        m        = 50\n",
    "        n        = 10\n",
    "        sigma    = 5\n",
    "        density  = 0.2\n",
    "\n",
    "        np.random.seed(1)\n",
    "        beta_star = np.random.randn(n)\n",
    "        idxs      = np.random.choice(range(n), int((1-density)*n), replace=False)\n",
    "\n",
    "        for idx in idxs:\n",
    "            beta_star[idx] = 0\n",
    "\n",
    "        X = np.random.randn(m,n)\n",
    "        Y = X.dot(beta_star) + np.random.normal(0, sigma, size=m)\n",
    "        # ---------- Generate Proxy Dataset , Convert ot Pytorch ---------- \n",
    "        self.data   =  torch.tensor(X)\n",
    "        self.label  =  torch.tensor(Y)\n",
    "\n",
    "    def __getitem__(self,index):\n",
    "        return self.data[index],self.label[index]\n",
    "\n",
    "    def __len__(self):\n",
    "        return len(self.data)"
   ]
  },
  {
   "cell_type": "code",
   "execution_count": 3,
   "metadata": {},
   "outputs": [],
   "source": [
    "batch_size = 10\n",
    "train_dataset   = Dataset()\n",
    "test_dataset    = Dataset()\n",
    "\n",
    "train_dataloader = DataLoader(dataset=train_dataset , batch_size=batch_size)\n",
    "test_dataloader  = DataLoader(dataset=test_dataset  , batch_size=batch_size)"
   ]
  },
  {
   "cell_type": "code",
   "execution_count": 6,
   "metadata": {},
   "outputs": [
    {
     "name": "stdout",
     "output_type": "stream",
     "text": [
      "iteration (1), X_train Size : torch.Size([10, 10]) , Y_train Size : torch.Size([10])\n",
      "iteration (2), X_train Size : torch.Size([10, 10]) , Y_train Size : torch.Size([10])\n",
      "iteration (3), X_train Size : torch.Size([10, 10]) , Y_train Size : torch.Size([10])\n",
      "iteration (4), X_train Size : torch.Size([10, 10]) , Y_train Size : torch.Size([10])\n",
      "iteration (5), X_train Size : torch.Size([10, 10]) , Y_train Size : torch.Size([10])\n"
     ]
    }
   ],
   "source": [
    "for i,(data,label) in enumerate(train_dataloader):\n",
    "    print(f\"iteration ({i+1})\" + \", X_train Size :\",data.size() , \", Y_train Size :\",label.size())"
   ]
  },
  {
   "cell_type": "code",
   "execution_count": null,
   "metadata": {},
   "outputs": [],
   "source": []
  }
 ],
 "metadata": {
  "interpreter": {
   "hash": "0cf3df4d71a28079a44c5da4fc89abaccf068750c614e1d3e46e1e6a2e981cfe"
  },
  "kernelspec": {
   "display_name": "Python 3.8.5 64-bit ('base': conda)",
   "language": "python",
   "name": "python3"
  },
  "language_info": {
   "codemirror_mode": {
    "name": "ipython",
    "version": 3
   },
   "file_extension": ".py",
   "mimetype": "text/x-python",
   "name": "python",
   "nbconvert_exporter": "python",
   "pygments_lexer": "ipython3",
   "version": "3.8.5"
  },
  "orig_nbformat": 4
 },
 "nbformat": 4,
 "nbformat_minor": 2
}
