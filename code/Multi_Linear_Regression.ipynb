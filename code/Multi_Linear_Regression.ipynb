{
 "cells": [
  {
   "cell_type": "markdown",
   "metadata": {},
   "source": [
    "# Import Package"
   ]
  },
  {
   "cell_type": "code",
   "execution_count": 2,
   "metadata": {},
   "outputs": [],
   "source": [
    "import numpy as np \n",
    "import pandas as pd\n",
    "from   tqdm import tqdm \n",
    "\n",
    "import statsmodels.api as sm \n",
    "import matplotlib.pyplot as plt "
   ]
  },
  {
   "cell_type": "markdown",
   "metadata": {},
   "source": [
    "# Proxy Dataset"
   ]
  },
  {
   "cell_type": "code",
   "execution_count": 44,
   "metadata": {},
   "outputs": [
    {
     "name": "stdout",
     "output_type": "stream",
     "text": [
      "(1000, 11)\n",
      "(1000, 1)\n"
     ]
    }
   ],
   "source": [
    "M = 1000\n",
    "N = 10\n",
    "x = np.random.random((M, N))\n",
    "x    = sm.add_constant(x)\n",
    "\n",
    "Beta = np.array([1,0, 0, 2, 0, -2, 0, 2, -2, 0, 2]).reshape(-1,1 )\n",
    "random_error = 0.5 * np.random.random(M).reshape(-1,1)\n",
    "\n",
    "y = np.array( x @ Beta ) + random_error\n",
    "\n",
    "\n",
    "\n",
    "print(x.shape)\n",
    "print(y.shape)"
   ]
  },
  {
   "cell_type": "markdown",
   "metadata": {},
   "source": [
    "# Linear Regression Class"
   ]
  },
  {
   "cell_type": "code",
   "execution_count": 45,
   "metadata": {},
   "outputs": [],
   "source": [
    "class linear_regression():\n",
    "    \n",
    "    \"\"\"\n",
    "    x is matrix with size --> mxn (contant constant term) \n",
    "    y is vector with size --> mx1 \n",
    "    \"\"\"\n",
    "    \n",
    "    def __init__(self,x,y,learning_rate,epochs,torelence):\n",
    "\n",
    "        self.x = x \n",
    "        self.y = y\n",
    "        self.learning_rate = learning_rate \n",
    "        self.epochs        = epochs \n",
    "        self.torelence     = torelence\n",
    "        self.weights       = np.zeros((self.x.shape[1],1))\n",
    "    \n",
    "    def mean_square_error(self,y_pred):\n",
    "        \n",
    "        mse_score = np.linalg.norm(y_pred-self.y,2) / y_pred.shape[0]\n",
    "        mse_score = np.sqrt(mse_score)\n",
    "        \n",
    "        return mse_score\n",
    "    \n",
    "    def loss_function(self,y_pred):\n",
    "\n",
    "        loss = np.linalg.norm(y_pred - self.y,2) * ( 1/ (2*(self.y.shape[0])) )\n",
    "\n",
    "        return loss \n",
    "    \n",
    "    def gradient_descent(self):\n",
    "        \n",
    "        # ---- record gradient descent -----\n",
    "        self.mse_list            = []\n",
    "        self.loss_list           = []\n",
    "        self.update_weights_list = []\n",
    "        #  ----- ----- ----- ----- ----- -----\n",
    "\n",
    "        for _ in tqdm(range(self.epochs)) :\n",
    "\n",
    "            while True : \n",
    "\n",
    "                # ---------  Matrix Form   --------- \n",
    "                y_pred          = self.x @ self.weights\n",
    "                prediction_loss = y_pred  - self.y\n",
    "\n",
    "                Loss_Gradient   = (2/self.x.shape[0]) * self.x.T @  prediction_loss \n",
    "                old_weights     = self.weights\n",
    "                self.weights    = self.weights - self.learning_rate * Loss_Gradient \n",
    "                \n",
    "\n",
    "                # ---------  record gradient descent ---------  \n",
    "                self.mse_list.append(self.mean_square_error(y_pred))\n",
    "                self.loss_list.append(self.loss_function(y_pred))\n",
    "                self.update_weights_list.append(self.weights)\n",
    "                \n",
    "                # Weights Difference --> to converge\n",
    "                weights_difference    = np.linalg.norm(self.weights - old_weights,2) \n",
    "                \n",
    "                if weights_difference < self.torelence : \n",
    "                    break\n",
    "        \n",
    "        return self.weights \n",
    "    \n",
    "    def update_record(self):\n",
    "\n",
    "        return  self.mse_list ,  self.loss_list ,self.update_weights_list \n",
    "    \n",
    "\n",
    "    def predict(self,x):\n",
    "\n",
    "        pred = x @ self.weights \n",
    "\n",
    "        return pred "
   ]
  },
  {
   "cell_type": "markdown",
   "metadata": {},
   "source": [
    "# Conduct Gradient Descent"
   ]
  },
  {
   "cell_type": "code",
   "execution_count": 46,
   "metadata": {},
   "outputs": [
    {
     "name": "stderr",
     "output_type": "stream",
     "text": [
      "100%|██████████| 50/50 [00:07<00:00,  6.34it/s]"
     ]
    },
    {
     "name": "stdout",
     "output_type": "stream",
     "text": [
      "Gradient Descent Estimated  [[ 1.08]\n",
      " [ 0.04]\n",
      " [ 0.04]\n",
      " [ 2.03]\n",
      " [ 0.06]\n",
      " [-1.94]\n",
      " [ 0.02]\n",
      " [ 1.99]\n",
      " [-1.94]\n",
      " [ 0.  ]\n",
      " [ 2.04]]\n"
     ]
    },
    {
     "name": "stderr",
     "output_type": "stream",
     "text": [
      "\n"
     ]
    }
   ],
   "source": [
    "model   = linear_regression(x=sm.add_constant(x),y=y,learning_rate=0.001,epochs=50,torelence=1e-5)\n",
    "weights = model.gradient_descent()\n",
    "pred    = model.predict(x=sm.add_constant(x))\n",
    "print(\"Gradient Descent Estimated \" , np.round(weights,decimals=2))"
   ]
  },
  {
   "cell_type": "markdown",
   "metadata": {},
   "source": [
    "# Recall Real Answer"
   ]
  },
  {
   "cell_type": "code",
   "execution_count": 47,
   "metadata": {},
   "outputs": [
    {
     "data": {
      "text/plain": [
       "array([[ 1],\n",
       "       [ 0],\n",
       "       [ 0],\n",
       "       [ 2],\n",
       "       [ 0],\n",
       "       [-2],\n",
       "       [ 0],\n",
       "       [ 2],\n",
       "       [-2],\n",
       "       [ 0],\n",
       "       [ 2]])"
      ]
     },
     "execution_count": 47,
     "metadata": {},
     "output_type": "execute_result"
    }
   ],
   "source": [
    "Beta"
   ]
  }
 ],
 "metadata": {
  "interpreter": {
   "hash": "c0a47dea00d570f92464afe46ffe5c2d4af344b6609508936a381314dfab973c"
  },
  "kernelspec": {
   "display_name": "Python 3.8.8 64-bit ('base': conda)",
   "name": "python3"
  },
  "language_info": {
   "codemirror_mode": {
    "name": "ipython",
    "version": 3
   },
   "file_extension": ".py",
   "mimetype": "text/x-python",
   "name": "python",
   "nbconvert_exporter": "python",
   "pygments_lexer": "ipython3",
   "version": "3.8.8"
  },
  "orig_nbformat": 4
 },
 "nbformat": 4,
 "nbformat_minor": 2
}
