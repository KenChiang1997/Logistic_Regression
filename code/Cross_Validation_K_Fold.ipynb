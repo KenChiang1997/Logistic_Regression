{
 "cells": [
  {
   "cell_type": "markdown",
   "metadata": {},
   "source": [
    "# Import Reduired Library , and sklearn model selection , KFLOD"
   ]
  },
  {
   "cell_type": "code",
   "execution_count": 1,
   "metadata": {},
   "outputs": [],
   "source": [
    "import numpy as np\n",
    "import pandas as pd \n",
    "import cvxpy as cp\n",
    "from tqdm import tqdm \n",
    "\n",
    "import matplotlib.pyplot as plt \n",
    "plt.style.use('ggplot')\n",
    "\n",
    "\n",
    "from sklearn.model_selection import KFold"
   ]
  },
  {
   "cell_type": "markdown",
   "metadata": {},
   "source": [
    "# Classification model : Logistic Regression "
   ]
  },
  {
   "cell_type": "code",
   "execution_count": 2,
   "metadata": {},
   "outputs": [],
   "source": [
    "class Logistic_Regrssion():\n",
    "    \"\"\"\n",
    "    x     --> datatype        , matrix with size (n,m) , n --> sample size ; m --> feature size \n",
    "    y     --> traning target  , column vector with size --> (n,1) \n",
    "    beta  --> column vector with size -->  (m,1)\n",
    "    lamda --> regularization pramters  \n",
    "    \"\"\"\n",
    "    def __init__(self,x,y,lambd):\n",
    "\n",
    "        self.x = x \n",
    "        self.y = y \n",
    "        self.beta = cp.Variable(x.shape[1])\n",
    "        self.lambd =lambd \n",
    "    \n",
    "    def loss_function(self,x,y,beta):\n",
    "\n",
    "        log_likelihood = cp.sum(cp.multiply(y, x @ beta) - cp.logistic(x @ beta) )\n",
    "\n",
    "        return log_likelihood\n",
    "    \n",
    "    def objective_function(self,x,y,beta,lambd):\n",
    "\n",
    "        obj_fnc = (self.loss_function(x,y,beta) / x.shape[0])  - lambd * self.regulizar(beta)\n",
    "\n",
    "        return obj_fnc\n",
    "\n",
    "    def regulizar(self,beta):\n",
    "\n",
    "        return cp.norm(beta,1)\n",
    "\n",
    "    def classification_error(self,scores,labels):\n",
    "\n",
    "        scores[scores > 0  ] = 1\n",
    "        scores[scores <= 0 ] = 0\n",
    "\n",
    "        return np.sum(np.abs(scores - labels)) / float(np.size(labels))\n",
    "\n",
    "    def Make_Prediction(self,beta,x):\n",
    "\n",
    "        prediction = np.where(np.round(sigmoid(x @ beta),decimals=2 ) > np.round(x @ beta ,decimals=2) , 0,1)\n",
    "\n",
    "        return prediction\n",
    "    \n",
    "    def Optimize(self):\n",
    "\n",
    "        problem = cp.Problem( cp.Maximize(self.objective_function(x=self.x,y=self.y,beta=self.beta,lambd=self.lambd)) )\n",
    "\n",
    "        return problem , self.beta\n"
   ]
  },
  {
   "cell_type": "markdown",
   "metadata": {},
   "source": [
    "# Generate Dataset"
   ]
  },
  {
   "cell_type": "code",
   "execution_count": 3,
   "metadata": {},
   "outputs": [
    {
     "name": "stdout",
     "output_type": "stream",
     "text": [
      "----------------------------------------------------------------------\n",
      "True Beta : [ 1.   0.5 -0.5  0.   0.   0.   0.   0.   0.   0.   0.   0.   0.   0.\n",
      "  0.   0.   0.   0.   0.   0.   0.   0.   0.   0.   0.   0.   0.   0.\n",
      "  0.   0.   0.   0.   0.   0.   0.   0.   0.   0.   0.   0.   0.   0.\n",
      "  0.   0.   0.   0.   0.   0.   0.   0. ]\n",
      "----------------------------------------------------------------------\n",
      "X sample shape : (50, 50)\n",
      "Y sample shape : (50,)\n"
     ]
    },
    {
     "data": {
      "text/html": [
       "<div>\n",
       "<style scoped>\n",
       "    .dataframe tbody tr th:only-of-type {\n",
       "        vertical-align: middle;\n",
       "    }\n",
       "\n",
       "    .dataframe tbody tr th {\n",
       "        vertical-align: top;\n",
       "    }\n",
       "\n",
       "    .dataframe thead th {\n",
       "        text-align: right;\n",
       "    }\n",
       "</style>\n",
       "<table border=\"1\" class=\"dataframe\">\n",
       "  <thead>\n",
       "    <tr style=\"text-align: right;\">\n",
       "      <th></th>\n",
       "      <th>x0</th>\n",
       "      <th>x1</th>\n",
       "      <th>x2</th>\n",
       "      <th>x3</th>\n",
       "      <th>x4</th>\n",
       "      <th>x5</th>\n",
       "      <th>x6</th>\n",
       "      <th>x7</th>\n",
       "      <th>x8</th>\n",
       "      <th>x9</th>\n",
       "      <th>...</th>\n",
       "      <th>x41</th>\n",
       "      <th>x42</th>\n",
       "      <th>x43</th>\n",
       "      <th>x44</th>\n",
       "      <th>x45</th>\n",
       "      <th>x46</th>\n",
       "      <th>x47</th>\n",
       "      <th>x48</th>\n",
       "      <th>x49</th>\n",
       "      <th>y</th>\n",
       "    </tr>\n",
       "  </thead>\n",
       "  <tbody>\n",
       "    <tr>\n",
       "      <th>0</th>\n",
       "      <td>-0.829780</td>\n",
       "      <td>2.203245</td>\n",
       "      <td>-4.998856</td>\n",
       "      <td>-1.976674</td>\n",
       "      <td>-3.532441</td>\n",
       "      <td>-4.076614</td>\n",
       "      <td>-3.137398</td>\n",
       "      <td>-1.544393</td>\n",
       "      <td>-1.032325</td>\n",
       "      <td>0.388167</td>\n",
       "      <td>...</td>\n",
       "      <td>2.481657</td>\n",
       "      <td>-2.195560</td>\n",
       "      <td>2.892793</td>\n",
       "      <td>-3.967740</td>\n",
       "      <td>-0.521065</td>\n",
       "      <td>4.085955</td>\n",
       "      <td>-2.063859</td>\n",
       "      <td>-2.122247</td>\n",
       "      <td>-3.699714</td>\n",
       "      <td>1.0</td>\n",
       "    </tr>\n",
       "    <tr>\n",
       "      <th>1</th>\n",
       "      <td>-4.806330</td>\n",
       "      <td>1.788355</td>\n",
       "      <td>-2.883719</td>\n",
       "      <td>-2.344533</td>\n",
       "      <td>-0.084268</td>\n",
       "      <td>-4.466375</td>\n",
       "      <td>0.741176</td>\n",
       "      <td>-3.532714</td>\n",
       "      <td>0.893055</td>\n",
       "      <td>1.997584</td>\n",
       "      <td>...</td>\n",
       "      <td>4.494893</td>\n",
       "      <td>-0.500879</td>\n",
       "      <td>0.783896</td>\n",
       "      <td>-0.918632</td>\n",
       "      <td>-2.629730</td>\n",
       "      <td>4.033795</td>\n",
       "      <td>0.736795</td>\n",
       "      <td>-4.971297</td>\n",
       "      <td>1.171449</td>\n",
       "      <td>0.0</td>\n",
       "    </tr>\n",
       "    <tr>\n",
       "      <th>2</th>\n",
       "      <td>-1.733551</td>\n",
       "      <td>0.270581</td>\n",
       "      <td>3.859421</td>\n",
       "      <td>-1.427302</td>\n",
       "      <td>4.085352</td>\n",
       "      <td>1.233601</td>\n",
       "      <td>-4.841788</td>\n",
       "      <td>4.294372</td>\n",
       "      <td>1.908969</td>\n",
       "      <td>4.973229</td>\n",
       "      <td>...</td>\n",
       "      <td>-3.635448</td>\n",
       "      <td>-4.400823</td>\n",
       "      <td>-3.786565</td>\n",
       "      <td>-4.554481</td>\n",
       "      <td>-3.925059</td>\n",
       "      <td>-2.742907</td>\n",
       "      <td>2.129890</td>\n",
       "      <td>0.597170</td>\n",
       "      <td>-4.874440</td>\n",
       "      <td>0.0</td>\n",
       "    </tr>\n",
       "    <tr>\n",
       "      <th>3</th>\n",
       "      <td>-4.280257</td>\n",
       "      <td>4.672763</td>\n",
       "      <td>0.681005</td>\n",
       "      <td>-2.967068</td>\n",
       "      <td>-2.476743</td>\n",
       "      <td>2.438259</td>\n",
       "      <td>-3.045705</td>\n",
       "      <td>0.813589</td>\n",
       "      <td>4.700200</td>\n",
       "      <td>3.468288</td>\n",
       "      <td>...</td>\n",
       "      <td>-4.340389</td>\n",
       "      <td>2.350660</td>\n",
       "      <td>2.721780</td>\n",
       "      <td>4.078159</td>\n",
       "      <td>4.319721</td>\n",
       "      <td>-4.860484</td>\n",
       "      <td>-2.656379</td>\n",
       "      <td>1.167784</td>\n",
       "      <td>4.490163</td>\n",
       "      <td>0.0</td>\n",
       "    </tr>\n",
       "    <tr>\n",
       "      <th>4</th>\n",
       "      <td>4.501761</td>\n",
       "      <td>0.566532</td>\n",
       "      <td>4.156063</td>\n",
       "      <td>1.415662</td>\n",
       "      <td>-1.099923</td>\n",
       "      <td>-0.140093</td>\n",
       "      <td>1.043105</td>\n",
       "      <td>0.495479</td>\n",
       "      <td>4.261814</td>\n",
       "      <td>4.187334</td>\n",
       "      <td>...</td>\n",
       "      <td>3.928887</td>\n",
       "      <td>0.778572</td>\n",
       "      <td>-3.159898</td>\n",
       "      <td>2.879292</td>\n",
       "      <td>1.120312</td>\n",
       "      <td>-4.460907</td>\n",
       "      <td>-0.798063</td>\n",
       "      <td>1.790688</td>\n",
       "      <td>4.186018</td>\n",
       "      <td>1.0</td>\n",
       "    </tr>\n",
       "  </tbody>\n",
       "</table>\n",
       "<p>5 rows × 51 columns</p>\n",
       "</div>"
      ],
      "text/plain": [
       "         x0        x1        x2        x3        x4        x5        x6  \\\n",
       "0 -0.829780  2.203245 -4.998856 -1.976674 -3.532441 -4.076614 -3.137398   \n",
       "1 -4.806330  1.788355 -2.883719 -2.344533 -0.084268 -4.466375  0.741176   \n",
       "2 -1.733551  0.270581  3.859421 -1.427302  4.085352  1.233601 -4.841788   \n",
       "3 -4.280257  4.672763  0.681005 -2.967068 -2.476743  2.438259 -3.045705   \n",
       "4  4.501761  0.566532  4.156063  1.415662 -1.099923 -0.140093  1.043105   \n",
       "\n",
       "         x7        x8        x9  ...       x41       x42       x43       x44  \\\n",
       "0 -1.544393 -1.032325  0.388167  ...  2.481657 -2.195560  2.892793 -3.967740   \n",
       "1 -3.532714  0.893055  1.997584  ...  4.494893 -0.500879  0.783896 -0.918632   \n",
       "2  4.294372  1.908969  4.973229  ... -3.635448 -4.400823 -3.786565 -4.554481   \n",
       "3  0.813589  4.700200  3.468288  ... -4.340389  2.350660  2.721780  4.078159   \n",
       "4  0.495479  4.261814  4.187334  ...  3.928887  0.778572 -3.159898  2.879292   \n",
       "\n",
       "        x45       x46       x47       x48       x49    y  \n",
       "0 -0.521065  4.085955 -2.063859 -2.122247 -3.699714  1.0  \n",
       "1 -2.629730  4.033795  0.736795 -4.971297  1.171449  0.0  \n",
       "2 -3.925059 -2.742907  2.129890  0.597170 -4.874440  0.0  \n",
       "3  4.319721 -4.860484 -2.656379  1.167784  4.490163  0.0  \n",
       "4  1.120312 -4.460907 -0.798063  1.790688  4.186018  1.0  \n",
       "\n",
       "[5 rows x 51 columns]"
      ]
     },
     "execution_count": 3,
     "metadata": {},
     "output_type": "execute_result"
    }
   ],
   "source": [
    "np.random.seed(1)\n",
    "n = 50\n",
    "m = 50\n",
    "def sigmoid(z):\n",
    "  return 1/(1 + np.exp(-z))\n",
    "\n",
    "beta_true = np.array([1, 0.5, -0.5] + [0]*(n - 3)) # True Beta \n",
    "\n",
    "X      = (np.random.random((m, n)) - 0.5)*10\n",
    "Y      = np.round(sigmoid(X @ beta_true + np.random.randn(m)*0.5))\n",
    "\n",
    "X_test = (np.random.random((2*m, n)) - 0.5)*10\n",
    "Y_test = np.round(sigmoid(X_test @ beta_true + np.random.randn(2*m)*0.5))\n",
    "\n",
    "print(\"-\"*70)\n",
    "print(\"True Beta :\",beta_true)\n",
    "print(\"-\"*70)\n",
    "print(\"X sample shape :\" , X.shape)\n",
    "print(\"Y sample shape :\" , Y.shape)\n",
    "\n",
    "Train_Dataset = pd.DataFrame(X,columns=[ \"x\" + str(i) for i in range(X.shape[1])])\n",
    "Train_Dataset['y'] = Y \n",
    "Train_Dataset.head()"
   ]
  },
  {
   "cell_type": "code",
   "execution_count": 4,
   "metadata": {},
   "outputs": [
    {
     "name": "stdout",
     "output_type": "stream",
     "text": [
      "without shuffle\n",
      "--------------------\n",
      "train_index : [10 11 12 13 14 15 16 17 18 19 20 21 22 23 24 25 26 27 28 29 30 31 32 33\n",
      " 34 35 36 37 38 39 40 41 42 43 44 45 46 47 48 49]\n",
      "test_index  :  [0 1 2 3 4 5 6 7 8 9]\n",
      "--------------------\n",
      "train_index : [ 0  1  2  3  4  5  6  7  8  9 20 21 22 23 24 25 26 27 28 29 30 31 32 33\n",
      " 34 35 36 37 38 39 40 41 42 43 44 45 46 47 48 49]\n",
      "test_index  :  [10 11 12 13 14 15 16 17 18 19]\n",
      "--------------------\n",
      "train_index : [ 0  1  2  3  4  5  6  7  8  9 10 11 12 13 14 15 16 17 18 19 30 31 32 33\n",
      " 34 35 36 37 38 39 40 41 42 43 44 45 46 47 48 49]\n",
      "test_index  :  [20 21 22 23 24 25 26 27 28 29]\n",
      "--------------------\n",
      "train_index : [ 0  1  2  3  4  5  6  7  8  9 10 11 12 13 14 15 16 17 18 19 20 21 22 23\n",
      " 24 25 26 27 28 29 40 41 42 43 44 45 46 47 48 49]\n",
      "test_index  :  [30 31 32 33 34 35 36 37 38 39]\n",
      "--------------------\n",
      "train_index : [ 0  1  2  3  4  5  6  7  8  9 10 11 12 13 14 15 16 17 18 19 20 21 22 23\n",
      " 24 25 26 27 28 29 30 31 32 33 34 35 36 37 38 39]\n",
      "test_index  :  [40 41 42 43 44 45 46 47 48 49]\n"
     ]
    }
   ],
   "source": [
    "kf = KFold(n_splits=5, random_state=None, shuffle=False)\n",
    "print(\"without shuffle\" )\n",
    "\n",
    "for train_index, test_index in kf.split(X) : \n",
    "\n",
    "    print(\"-\"*20)\n",
    "    print(\"train_index :\" , train_index)\n",
    "    print(\"test_index  : \", test_index)\n"
   ]
  },
  {
   "cell_type": "markdown",
   "metadata": {},
   "source": [
    "# Finding Lambda with Cross valiadtion - K-fold"
   ]
  },
  {
   "cell_type": "code",
   "execution_count": 5,
   "metadata": {},
   "outputs": [
    {
     "data": {
      "text/plain": [
       "100"
      ]
     },
     "execution_count": 5,
     "metadata": {},
     "output_type": "execute_result"
    }
   ],
   "source": [
    "train_error = []\n",
    "test_error  = []\n",
    "beta_vals   = []\n",
    "\n",
    "class arguments():\n",
    "    trials      = 100\n",
    "    lambda_vals = np.logspace(-2, 0, trials)\n",
    "\n",
    "arg = arguments()\n",
    "len(arg.lambda_vals)"
   ]
  },
  {
   "cell_type": "code",
   "execution_count": 6,
   "metadata": {},
   "outputs": [
    {
     "name": "stderr",
     "output_type": "stream",
     "text": [
      "100%|██████████| 100/100 [00:01<00:00, 81.99it/s]\n",
      "100%|██████████| 100/100 [00:01<00:00, 82.49it/s]\n",
      "100%|██████████| 100/100 [00:01<00:00, 83.89it/s]\n",
      "100%|██████████| 100/100 [00:01<00:00, 86.82it/s]\n",
      "100%|██████████| 100/100 [00:01<00:00, 83.53it/s]\n"
     ]
    }
   ],
   "source": [
    "for train_index, test_index in kf.split(X) : \n",
    "\n",
    "    x_train = X[train_index]\n",
    "    y_train = Y[train_index]\n",
    "\n",
    "    x_test = X[test_index]\n",
    "    y_test = Y[test_index]\n",
    "\n",
    "    subset_train_error = []\n",
    "    subset_test_error  = []\n",
    "\n",
    "\n",
    "    for i,v in enumerate(tqdm(arg.lambda_vals)):\n",
    "\n",
    "        Model = Logistic_Regrssion(x_train,y_train,v)\n",
    "        prob ,params = Model.Optimize()\n",
    "        prob.solve()\n",
    "\n",
    "        subset_train_error.append( Model.classification_error( (x_train @ params).value  , y_train  )  )\n",
    "        subset_test_error.append( Model.classification_error(  (x_test @ params).value   , y_test   )  )\n",
    "\n",
    "    \n",
    "    train_error.append(subset_train_error)\n",
    "    test_error.append(subset_test_error)\n"
   ]
  },
  {
   "cell_type": "code",
   "execution_count": 7,
   "metadata": {},
   "outputs": [],
   "source": [
    "train_errors = np.array(train_error).mean(axis=0)\n",
    "test_errors  = np.array(test_error).mean(axis=0)"
   ]
  },
  {
   "cell_type": "code",
   "execution_count": 8,
   "metadata": {},
   "outputs": [],
   "source": [
    "def plot_train_test_errors(train_errors, test_errors, lambd_values):\n",
    "\n",
    "    fig , ax = plt.subplots(figsize=(12,6))\n",
    "    ax.set_title(\"Mean Squared Error (MSE)\")\n",
    "    ax.plot(lambd_values, train_errors, label=\"Train error\")\n",
    "    ax.plot(lambd_values, test_errors, label=\"Test error\")\n",
    "    ax.set_xlabel(r\"$\\lambda$\", fontsize=16)\n",
    "    ax.set_ylabel('Y Values')\n",
    "    ax.legend(loc=\"upper left\")\n",
    "    plt.xscale(\"log\")\n",
    "    plt.show()\n",
    "\n",
    "def plot_regularization_path(lambd_values, beta_values,feature_name=None):\n",
    "    \n",
    "    num_coeffs = len(beta_values[0])\n",
    "\n",
    "    fig,ax  = plt.subplots(figsize=(12,6))\n",
    "    ax.set_title(\"Regularization Path\")\n",
    "    for i in range(num_coeffs):\n",
    "        ax.plot(lambd_values, [wi[i] for wi in beta_values],label=feature_name)\n",
    "\n",
    "    ax.set_xlabel(r\"$\\lambda$\", fontsize=16)\n",
    "    ax.legend(loc=\"upper right\")\n",
    "    plt.xscale(\"log\")\n",
    "    plt.show()"
   ]
  },
  {
   "cell_type": "code",
   "execution_count": 9,
   "metadata": {},
   "outputs": [
    {
     "data": {
      "image/png": "[encoded data removed]",
      "text/plain": [
       "<Figure size 864x432 with 1 Axes>"
      ]
     },
     "metadata": {},
     "output_type": "display_data"
    }
   ],
   "source": [
    "plot_train_test_errors(train_errors, test_errors, arg.lambda_vals)"
   ]
  },
  {
   "cell_type": "markdown",
   "metadata": {},
   "source": [
    "# Find the CV best Lambda"
   ]
  },
  {
   "cell_type": "code",
   "execution_count": 10,
   "metadata": {},
   "outputs": [
    {
     "data": {
      "text/plain": [
       "0.01"
      ]
     },
     "execution_count": 10,
     "metadata": {},
     "output_type": "execute_result"
    }
   ],
   "source": [
    "minimum_test_error_index = list(test_errors).index(np.min(test_errors))\n",
    "best_lambd               = np.round(list(arg.lambda_vals)[minimum_test_error_index],decimals=2)\n",
    "best_lambd"
   ]
  },
  {
   "cell_type": "code",
   "execution_count": 11,
   "metadata": {},
   "outputs": [
    {
     "name": "stdout",
     "output_type": "stream",
     "text": [
      "Maximization Values          :  -0.06129888977284066\n",
      "Unconstrained Optimal Params :  [ 1.88  0.85 -0.92 -0.05 -0.   -0.    0.   -0.    0.31  0.   -0.   -0.\n",
      " -0.    0.   -0.   -0.    0.    0.    0.   -0.    0.   -0.    0.    0.14\n",
      " -0.    0.   -0.21 -0.   -0.21  0.   -0.   -0.   -0.1   0.    0.   -0.\n",
      "  0.   -0.    0.    0.   -0.   -0.   -0.   -0.   -0.    0.    0.    0.\n",
      "  0.   -0.13]\n"
     ]
    }
   ],
   "source": [
    "Model = Logistic_Regrssion(X,Y,best_lambd)\n",
    "prob ,params = Model.Optimize()\n",
    "\n",
    "print(\"Maximization Values          : \" , prob.solve())\n",
    "print(\"Unconstrained Optimal Params : \" , np.round(params.value,decimals=2))"
   ]
  },
  {
   "cell_type": "code",
   "execution_count": 12,
   "metadata": {},
   "outputs": [
    {
     "name": "stdout",
     "output_type": "stream",
     "text": [
      "              precision    recall  f1-score   support\n",
      "\n",
      "           0       0.98      0.96      0.97        45\n",
      "           1       0.96      0.98      0.97        55\n",
      "\n",
      "    accuracy                           0.97       100\n",
      "   macro avg       0.97      0.97      0.97       100\n",
      "weighted avg       0.97      0.97      0.97       100\n",
      "\n"
     ]
    }
   ],
   "source": [
    "from sklearn.metrics import classification_report\n",
    "\n",
    "# Threashold  = np.round(X_test @ beta.value ,decimals=2)\n",
    "# Logistic(X) = np.round(sigmoid(X_test @ beta.value ),decimals=2 )\n",
    "\n",
    "Prediction = Model.Make_Prediction(x=X_test,beta=params.value)\n",
    "print(classification_report(Prediction,Y_test))"
   ]
  },
  {
   "cell_type": "markdown",
   "metadata": {},
   "source": [
    "Compare to Logistic regression with regularization , peforme a little ba better "
   ]
  }
 ],
 "metadata": {
  "interpreter": {
   "hash": "c0a47dea00d570f92464afe46ffe5c2d4af344b6609508936a381314dfab973c"
  },
  "kernelspec": {
   "display_name": "Python 3.8.8 64-bit ('base': conda)",
   "language": "python",
   "name": "python3"
  },
  "language_info": {
   "codemirror_mode": {
    "name": "ipython",
    "version": 3
   },
   "file_extension": ".py",
   "mimetype": "text/x-python",
   "name": "python",
   "nbconvert_exporter": "python",
   "pygments_lexer": "ipython3",
   "version": "3.8.8"
  },
  "orig_nbformat": 4
 },
 "nbformat": 4,
 "nbformat_minor": 2
}
